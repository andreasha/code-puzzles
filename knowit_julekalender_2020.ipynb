{
 "cells": [
  {
   "cell_type": "markdown",
   "metadata": {},
   "source": [
    "# Knowit julekalender 2020"
   ]
  },
  {
   "cell_type": "code",
   "execution_count": 15,
   "metadata": {},
   "outputs": [],
   "source": [
    "import re\n",
    "import requests\n",
    "import time\n",
    "\n",
    "import numpy as np\n",
    "import pandas as pd"
   ]
  },
  {
   "cell_type": "raw",
   "metadata": {},
   "source": [
    "## Luke 1 ##\n",
    "I [denne](https://julekalender-backend.knowit.no/challenges/1/attachments/numbers.txt) fila ligg alle tala frå og med 1 til og med 100 000 hulter til bulter, med unntak av eit tal. Kva for eit?"
   ]
  },
  {
   "cell_type": "code",
   "execution_count": 8,
   "metadata": {},
   "outputs": [
    {
     "name": "stdout",
     "output_type": "stream",
     "text": [
      "Tallet som mangler i luke 1 er {81273}\n"
     ]
    }
   ],
   "source": [
    "luke1 = requests.get('https://julekalender-backend.knowit.no/challenges/1/attachments/numbers.txt').text\n",
    "tall_fra_fil = set([int(tall) for tall in luke1.split(sep=',')])\n",
    "alle_tall = set([t for t in range(min(tall_fra_fil), max(tall_fra_fil) + 1)])\n",
    "print(f'Tallet som mangler i luke 1 er {alle_tall.difference(tall_fra_fil)}')"
   ]
  },
  {
   "cell_type": "raw",
   "metadata": {},
   "source": [
    "## Luke 2 ##\n",
    "Julenissen skal levere pakker til alle snille barn. For å holde styr på pakkene merker alvene hver pakke med et unikt tall. Den første pakken får tallet 0 (alvene nullindekserer selvsagt), den andre pakken 1 osv. Julenissen drar alltid opp pakkene i numerisk rekkefølge fra sekken.\n",
    "\n",
    "Julenissen hater av en eller annen grunn sifferet 7, og reagerer sterkt når han ser en pakke med dette sifferet. Hans reaksjon er at han kaster pakken i søpla, og i ukontrollert sinne også kaster de P neste pakkene, hvor P er nærmeste primtall som er mindre eller lik tallet på pakken.\n",
    "\n",
    "Julenissen skal levere pakker til alle de snille barna i Norge. Terskelen er ganske lav for hva Julenissen anser som et snilt barn, vi er alle snille barn i Julenissens øyne. Dvs. hele norges befolkning på 5433000, skal få en pakke levert. Hvor mange av disse pakkene vil faktisk bli levert?"
   ]
  },
  {
   "cell_type": "code",
   "execution_count": 10,
   "metadata": {},
   "outputs": [
    {
     "name": "stdout",
     "output_type": "stream",
     "text": [
      "Leverte 69 pakker:\n",
      " [0, 1, 2, 3, 4, 5, 6, 15, 16, 35, 36, 149, 150, 151, 152, 153, 154, 155, 156, 315, 316, 635, 636, 1269, 2530, 2531, 2532, 2533, 2534, 2535, 2536, 5069, 10130, 10131, 10132, 10133, 10134, 10135, 10136, 40541, 40542, 40543, 40544, 40545, 40546, 81091, 81092, 81093, 81094, 81095, 81096, 162195, 162196, 324341, 324342, 324343, 324344, 324345, 324346, 648689, 648690, 648691, 648692, 648693, 648694, 648695, 648696, 5189505, 5189506]\n"
     ]
    }
   ],
   "source": [
    "def is_prime(n):\n",
    "    for check in range(3, n, 1):\n",
    "        if n%check==0:\n",
    "            return False\n",
    "    return True\n",
    "\n",
    "def previous_prime(n):\n",
    "    for check in range(n, 1, -1):\n",
    "        if is_prime(check):\n",
    "            return check\n",
    "    return n\n",
    "\n",
    "deliveries = set()\n",
    "package_no = 0\n",
    "while package_no < 5433000:\n",
    "    if '7' in str(package_no):\n",
    "        p_prime = previous_prime(package_no)\n",
    "        next_package = package_no + p_prime + 1\n",
    "        #print(f'Jeg hater tallet {package_no}! Forrige primtall er {p_prime}. Neste pakke er {next_package}')\n",
    "        package_no = next_package\n",
    "    else:\n",
    "        deliveries.add(package_no)\n",
    "        package_no += 1\n",
    "print(f'Leverte {len(deliveries)} pakker:\\n {sorted(deliveries)}')"
   ]
  },
  {
   "cell_type": "raw",
   "metadata": {},
   "source": [
    "## Luke 3 ##\n",
    "I denne matrisa på 1000x1000 teikn har vi gøymd 22 av orda frå denne lista. Orda er gøymd både framlengs og baklengs, i horisontal, vertikal og alle diagonale retningar.\n",
    "\n",
    "Kva for tre ord frå lista har vi ikkje gøymd i matrisa? Svar i form av ei alfabetisk sortert, kommaseparert liste."
   ]
  },
  {
   "cell_type": "code",
   "execution_count": 12,
   "metadata": {},
   "outputs": [
    {
     "name": "stdout",
     "output_type": "stream",
     "text": [
      "Fant følgende:\n",
      "nisseverksted       (390, 480) 🡭 (378, 492)\n",
      "pepperkake          (252, 858) 🡬 (243, 849)\n",
      "adventskalender     (566, 767) 🡮 (580, 781)\n",
      "klementin           (369, 762) 🡭 (361, 770)\n",
      "krampus             (113, 135) 🡩 (107, 135)\n",
      "juletre             (476, 690) 🡭 (470, 696)\n",
      "julestjerne         (657, 798) 🡪 (657, 808)\n",
      "gløggkos            (220, 501) 🡮 (227, 508)\n",
      "mandel              (581, 355) 🡪 (581, 360)\n",
      "sledespor           (836, 160) 🡫 (844, 160)\n",
      "nordpolen           (341, 707) 🡨 (341, 699)\n",
      "nellik              (187, 880) 🡨 (187, 875)\n",
      "svineribbe          (498, 299) 🡮 (507, 308)\n",
      "lutefisk            (495, 187) 🡩 (488, 187)\n",
      "medisterkake        (290, 866) 🡩 (279, 866)\n",
      "grevinne            (540, 703) 🡫 (547, 703)\n",
      "hovmester           (873, 356) 🡫 (881, 356)\n",
      "sølvgutt            (524, 124) 🡯 (531, 117)\n",
      "jesusbarnet         (734, 865) 🡨 (734, 855)\n",
      "julestrømpe         (192, 439) 🡬 (182, 429)\n",
      "rudolf              (607, 262) 🡬 (602, 257)\n",
      "akevitt             (292, 486) 🡪 (292, 492)\n",
      "Fant ikke ['marsipangris', 'pinnekjøtt', 'askepott']\n"
     ]
    }
   ],
   "source": [
    "matrise_url = 'https://gist.githubusercontent.com/knowitkodekalender/d277d4f01a9fe10f7c1d92e2d17f1b31/raw/49da54e4372a83f4fc11d7137f19fc8b4c58bda6/matrix.txt'\n",
    "fasitliste_url = 'https://gist.githubusercontent.com/knowitkodekalender/9e1ba20cd879b0c6d7af4ccfe8a87a19/raw/b19ae9548a33a825e2275d0283986070b9b7a126/wordlist.txt'\n",
    "fasitliste = requests.get(fasitliste_url).text.split(sep='\\n')\n",
    "matrise = requests.get(matrise_url).text.split(sep='\\n')[:-1]\n",
    "search_directions = {'🡬': (-1, -1), '🡩': (-1, 0),\n",
    "                     '🡭': (-1, 1), '🡨': (0, -1),\n",
    "                     '🡪': (0, 1), '🡯': (1, -1),\n",
    "                     '🡫': (1, 0), '🡮': (1, 1)}\n",
    "\n",
    "def search_direction(search_string, x, y, direction):\n",
    "    offset_x, offset_y = direction\n",
    "    search_x, search_y = x + offset_x, y + offset_y\n",
    "    try:\n",
    "        if search_string[0] == matrise[search_x][search_y] and search_x >= 0 and search_y >= 0:\n",
    "            if len(search_string) == 1:\n",
    "                return search_x, search_y\n",
    "            else:\n",
    "                return search_direction(search_string[1:], search_x, search_y, direction)\n",
    "    except:\n",
    "        pass\n",
    "    return None\n",
    "\n",
    "found_dict = dict()\n",
    "for search_word in fasitliste:\n",
    "    for x, row in enumerate(matrise):\n",
    "        for y, char in enumerate(row):\n",
    "                if matrise[x][y] == search_word[0]:\n",
    "                    for arrow, direction in search_directions.items():\n",
    "                        try:\n",
    "                            end_x, end_y = search_direction(search_word[1:], x, y, direction)\n",
    "                            found_dict[search_word] = ((x, y), (end_x, end_y), arrow)\n",
    "                        except:\n",
    "                            pass\n",
    "\n",
    "print('Fant følgende:')\n",
    "for k, v in found_dict.items():    \n",
    "    print(f'{k:<20}{v[0]} {v[2]} {v[1]}')\n",
    "print(f'Fant ikke {[bom for bom in fasitliste if bom not in found_dict.keys()]}')"
   ]
  },
  {
   "cell_type": "raw",
   "metadata": {},
   "source": [
    "## Luke 4 ##\n",
    "Halvor er daglig leder i en lukrativ kakefabrikk med mange ansatte. Det nærmer seg jul og Halvor må finne ut hvor stor årets julebonus skal bli. Bonusen er gitt av antall kaker bakt, men dessverre har han klart å makulere kakehistorikken og han har selvfølgelig også glemt å ta backups. Til alt hell klarer Halvor å finne leveranselisten, som inneholder hvor mange enheter av hver ingrediens som har blitt levert det siste året.\n",
    "\n",
    "Ingrediensene for én kake er som følger:\n",
    "\n",
    "- 2 enheter sukker\n",
    "- 3 enheter mel\n",
    "- 3 enheter melk\n",
    "- 1 enhet egg\n",
    "\n",
    "Oppgave\n",
    "Her er Halvors leveringsliste. Hjelp Halvor med å finne ut hvor mange kaker som er bakt i år, slik at han kan ordne riktig julebonus!"
   ]
  },
  {
   "cell_type": "code",
   "execution_count": 14,
   "metadata": {},
   "outputs": [
    {
     "name": "stdout",
     "output_type": "stream",
     "text": [
      "4565133 enehter sukker holder til 2282566.50 kaker\n",
      "4374042 enehter mel holder til 1458014.00 kaker\n",
      "4489966 enehter melk holder til 1496655.33 kaker\n",
      "4711270 enehter egg holder til 4711270.00 kaker\n",
      "Vi kan bake 1458014 kaker\n"
     ]
    }
   ],
   "source": [
    "leveringsliste_url = 'https://julekalender-backend.knowit.no/challenges/4/attachments/leveringsliste.txt'\n",
    "leveringsliste = requests.get(leveringsliste_url).text\n",
    "ingredienser = {'sukker': 2, 'mel': 3, 'melk': 3, 'egg': 1}\n",
    "leveranser = {}\n",
    "ant_kaker = {}\n",
    "for i in ingredienser.keys():\n",
    "    leveranser[i] = sum([int(s) for s in re.findall(f'{i}: (\\d*)', leveringsliste)])\n",
    "    ant_kaker[i] = leveranser[i]/ingredienser[i]\n",
    "    print(f'{leveranser[i]} enehter {i} holder til {ant_kaker[i]:.2f} kaker')\n",
    "print(f'Vi kan bake {min([int(a) for a in ant_kaker.values()])} kaker')"
   ]
  },
  {
   "cell_type": "raw",
   "metadata": {},
   "source": [
    "## Luke 5 ##\n",
    "Julenissen er livredd for krakk i boligmarkedet. Han har fått kalde føtter, og bestemt seg for å selge huset på nordpolen. For å legge ut annonse på finn.no må han måle bruksarealet av huset. Huset hans er latterlig stort, så han har derfor satt husmusen på saken.\n",
    "\n",
    "Husmusen løper langs alle vegger og rapportrerer sin rute tilbake til julenissen. Ruta er en streng med retninger som musa har forflyttet seg, Der:\n",
    "\n",
    "- H = høyre\n",
    "- V = venstre\n",
    "- O = opp\n",
    "- N = ned\n",
    "\n",
    "Husmusen beveger seg 1m for hver forflytning raportert i ruta, og vil ikke på noe punkt krysse ruta før hele ruta er målt opp. Ruta vil omslutte et lukket område.\n",
    "\n",
    "Oppgave\n",
    "Hva er arealet av julenissens hus ut ifra husmusens rute gitt i rute.txt?"
   ]
  },
  {
   "cell_type": "code",
   "execution_count": 17,
   "metadata": {},
   "outputs": [
    {
     "name": "stdout",
     "output_type": "stream",
     "text": [
      "Arealet er 118000.0\n"
     ]
    }
   ],
   "source": [
    "instruksjoner_url = 'https://julekalender-backend.knowit.no/challenges/5/attachments/rute.txt'\n",
    "instruksjoner = requests.get(instruksjoner_url).text\n",
    "retninger = {'V': (-1, 0), 'H': (1, 0), 'O': (0, 1), 'N': (0, -1)}\n",
    "\n",
    "x, y = [0], [0]\n",
    "for instruksjon in instruksjoner:\n",
    "    x.append(x[-1] + retninger[instruksjon][0])\n",
    "    y.append(y[-1] + retninger[instruksjon][1])\n",
    "    \n",
    "areal = 0\n",
    "for i in range(1, len(instruksjoner) + 1):\n",
    "    areal += (x[i - 1] + x[i]) * (y[i - 1] - y[i])\n",
    "print(f'Arealet er {abs(areal/2)}')"
   ]
  },
  {
   "cell_type": "raw",
   "metadata": {},
   "source": [
    "## Luke 6 ##\n",
    "Som en ekstra belønning har julenissen skaffet 10000 pakker med godteri som han skal fordele på de 127 alvene. De 10000 pakkene med godteri har forskjellig antall biter, fra 10 til 15 biter per pakke.\n",
    "\n",
    "Til å hjelpe seg har julenissen fått en av alvene til å telle hvor mange biter det er i pakkene, og har fått tilbake en liste over hvor mange biter det er i hver pakke.\n",
    "\n",
    "Julenissen er litt lat, og for å spare arbeid så åpner han pakkene i rekkefølgen som de står i listen. Han kan med andre ord ikke åpne en pakke før alle foregående pakker har blitt åpnet. Det er viktig for han at alle alvene får like mange biter, og så mange biter som mulig. Det skal heller ikke være noen biter til overs, alle bitene skal deles ut."
   ]
  },
  {
   "cell_type": "code",
   "execution_count": 23,
   "metadata": {},
   "outputs": [
    {
     "name": "stdout",
     "output_type": "stream",
     "text": [
      "Det blir 952.0 godteri på hver.\n"
     ]
    }
   ],
   "source": [
    "pakker_url = 'https://julekalender-backend.knowit.no/challenges/6/attachments/godteri.txt'\n",
    "pakker = [int(s) for s in requests.get(pakker_url).text.split(',')]\n",
    "godteri_akkumulert = np.array(pakker).cumsum()\n",
    "ant_alver = 127\n",
    "print(f'Det blir {max(godteri_akkumulert[godteri_akkumulert % ant_alver == 0]) / ant_alver} godteri på hver.')"
   ]
  },
  {
   "cell_type": "raw",
   "metadata": {},
   "source": [
    "## Luke 7 ##\n",
    "Juletrebonden Eilert har ein skog med mange juletre. Diverre har skogen i år blitt angrepen av ein sopp som får trea til vekse skeivt, mangle greiner og generelt bli usymmetriske (om stamme-aksen). Usymmetriske tre blir ikkje kjøpt, så Eilert lurer på kor mange av trea han får seld i år.\n",
    "\n",
    "Oversikt over alle trea finn du her (skru av word wrap / linjebryting!). Kor mange av trea er symmetriske om stammen?"
   ]
  },
  {
   "cell_type": "code",
   "execution_count": 26,
   "metadata": {},
   "outputs": [
    {
     "name": "stdout",
     "output_type": "stream",
     "text": [
      "Vi har 8193 trær til sammen hvorav 1 er symmetriske.\n"
     ]
    }
   ],
   "source": [
    "symmetre_url = 'https://julekalender-backend.knowit.no/challenges/7/attachments/forest.txt'\n",
    "symmetre_rader = requests.get(symmetre_url).text.split('\\n')[:-1]\n",
    "\n",
    "trær = [[]]\n",
    "for kolonne in map(list, zip(*symmetre_rader)):\n",
    "    if kolonne.count('#') == 0 and trær[-1]:\n",
    "        trær.append([])\n",
    "    else:\n",
    "        trær[-1].append(''.join(kolonne))\n",
    "\n",
    "alle_trær = list(filter(None, trær))\n",
    "symmetriske_trær = sum([tre[::1] == tre[::-1] for tre in alle_trær])\n",
    "print(f'Vi har {len(alle_trær)} trær til sammen hvorav {symmetriske_trær} er symmetriske.')"
   ]
  },
  {
   "cell_type": "raw",
   "metadata": {},
   "source": [
    "## Luke 8 ##\n",
    "Det er allment kjent at Nissen er tung. Blytung. Absolutt hinsides tung faktisk. Han er et vesen skapt før universet, hans sjel bunnløs som tiden selv... Nissens tyngdekraft gjør at tiden går saktere jo nærmere han du kommer.\n",
    "\n",
    "Vi vil finne ut hva slags kaos han skaper idet han reiser rundt på Julaften ved å gjøre et eksperiment. I fila input.txt ligger det først 50 lokasjoner navn: (x, y) han skal besøke, deretter ruten hans som en liste av lokasjonsnavn. Han kan besøke hver lokasjon opp til flere ganger.\n",
    "\n",
    "Nissen beveger seg mellom ruter kun langs rutenes kanter (Taxicab Geometry). Han reiser først horisontalt fram til han er i riktig x, deretter reiser han vertikalt til riktig y. For hver rute han reiser langs rutenettet går ett sekund for alle punktene i nettet - men for de som er nærmere Nissen enn 50 ruter går det bare 0.75 sekunder, for de som er nærmere enn 20 ruter går det 0.5 sekunder og for de som er nærmere Nissen enn 5 ruter går det kun 0.25 sekunder. Der han står går ikke tiden i det hele tatt.\n",
    "\n",
    "Når Nissen har reist hele ruta si, hva er den største tidsforskjellen mellom to av de navngitte punktene? Han begynner i posisjon (0, 0). Svaret gis med 2 desimaler og punktum som desimalskilletegn."
   ]
  },
  {
   "cell_type": "code",
   "execution_count": 27,
   "metadata": {},
   "outputs": [
    {
     "name": "stdout",
     "output_type": "stream",
     "text": [
      "Differansen er 6845.25\n"
     ]
    }
   ],
   "source": [
    "inputfil_url = 'https://julekalender-backend.knowit.no/challenges/8/attachments/input.txt'\n",
    "rådata = requests.get(inputfil_url).text.split('\\n')[:-1]\n",
    "\n",
    "lokasjoner_raw = [re.findall(r'(.*): (.*)', r)[0] for r in rådata[:50]]\n",
    "lokasjoner = {lokasjon[0]: eval(lokasjon[1]) for lokasjon in lokasjoner_raw}\n",
    "reiserute = list(map(lokasjoner.get, rådata[50:]))\n",
    "\n",
    "def get_retning(fra, til):\n",
    "    if til[0] > fra[0]:\n",
    "        return (1, 0)\n",
    "    elif til[0] < fra[0]:\n",
    "        return (-1, 0)\n",
    "    elif til[1] > fra[1]:\n",
    "        return (0, 1)\n",
    "    elif til[1] < fra[1]:\n",
    "        return (0, -1)\n",
    "\n",
    "lokasjon_x, lokasjon_y = np.array([v[0] for v in lokasjoner.values()]), np.array([v[1] for v in lokasjoner.values()])\n",
    "x, y = [0], [0]\n",
    "\n",
    "for destinasjon in reiserute:\n",
    "    while (x[-1], y[-1]) != destinasjon:\n",
    "        retning = get_retning((x[-1], y[-1]), destinasjon)\n",
    "        x.append(x[-1] + retning[0])\n",
    "        y.append(y[-1] + retning[1])\n",
    "\n",
    "x.pop(0) # Remove start position\n",
    "y.pop(0)\n",
    "\n",
    "distances = abs(np.subtract(np.array(x), lokasjon_x[:,None])) + abs(np.subtract(np.array(y), lokasjon_y[:,None]))\n",
    "time_increment_brackets = [distances == 0, (distances > 0) & (distances < 5), (distances >= 5) & (distances < 20), (distances >= 20) & (distances < 50)]\n",
    "time_increments = [0, 0.25, 0.5, 0.75]\n",
    "total_times = np.select(time_increment_brackets, time_increments, default=1).sum(axis=1)\n",
    "\n",
    "print(f'Differansen er {total_times.max() - total_times.min()}')"
   ]
  },
  {
   "cell_type": "raw",
   "metadata": {},
   "source": [
    "## Luke 9 ##\n",
    "I eit forsøk på å stanse spreiinga av Tuborg-viruset har Julenissen bestemt at alle alvar skal halde seg innanfor kvart sit oppteikna kvadrat til smitta stoppar opp. Diverre er kvadrata litt for små, slik at viruset likevel kan smitte om ein er så uheldig at ein har minst to naboar (i horisontal og vertikal retning) som sjølv er sjuke. Om ein blir smitta, er ein sjølv ikkje smittsam før neste dag. I denne fila ser vi oversikta over dei friske (f) og sjuke (s) alvane. Kor mange dagar går det før smitta stansar opp?"
   ]
  },
  {
   "cell_type": "code",
   "execution_count": 28,
   "metadata": {},
   "outputs": [
    {
     "name": "stdout",
     "output_type": "stream",
     "text": [
      "Det tar 158 dager til smitten stopper opp. Kjøretid: 0.062s.\n"
     ]
    }
   ],
   "source": [
    "rådata = requests.get('https://julekalender-backend.knowit.no/challenges/9/attachments/elves.txt').text.split('\\n')[:-1]\n",
    "start_time = time.time()\n",
    "syk = np.array(np.array(list([*s] for s in rådata)) == 'S', dtype=np.int8) # int array\n",
    "antall_syke = [syk.sum()]\n",
    "\n",
    "while True:\n",
    "    syke_rundt = np.pad(syk, 1)[1:-1, 2:] + np.pad(syk, 1)[1:-1, :-2] + np.pad(syk, 1)[2:, 1:-1] + np.pad(syk, 1)[:-2, 1:-1]\n",
    "    syk = syk | np.array(syke_rundt >= 2)\n",
    "    \n",
    "    if syk.sum() == antall_syke[-1]:\n",
    "        break # ingen nye syke\n",
    "    else:\n",
    "        antall_syke.append(syk.sum())\n",
    "\n",
    "print(f'Det tar {len(antall_syke)} dager til smitten stopper opp. Kjøretid: {time.time() - start_time:.3f}s.')"
   ]
  },
  {
   "cell_type": "raw",
   "metadata": {},
   "source": [
    "## Luke 10 ##\n",
    "Hvert fjerde år arrangeres Alvelekene, med alt det tilhørende av premiering, pomp og prakt. Tradisjonen tro så skal Julenissen dele ut premien til vinneren av Alvelekene, men han trenger hjelp til å finne ut hvem som faktisk vant.\n",
    "\n",
    "Til å hjelpe seg har Julenissen resultatlisten for lekene, men ikke poengene som alvene har fått i løpet av lekene.\n",
    "\n",
    "Hver linje i resultatene representerer én øvelse, hver alv er representert med de samme 2 bokstavene i alle øvelsene, og for hver linje er vinneren skrevet ned først og sisteplassen skrevet ned sist.\n",
    "\n",
    "Hver øvelse er verdt like mange poeng som antall deltakere minus plassering, som betyr at hvis man får andreplass i en øvelse hvor det er 12 deltakere, vil man få 12-2=10 poeng. Hvis man ikke deltar får man 0 poeng.\n",
    "\n",
    "Oppgave\n",
    "Hvilken alv vant, og hvor mye poeng fikk vinneren? Svaret skal være på formen vinner-poengsum"
   ]
  },
  {
   "cell_type": "code",
   "execution_count": 29,
   "metadata": {},
   "outputs": [
    {
     "data": {
      "text/plain": [
       "spiller\n",
       "ti    7776\n",
       "gk    7249\n",
       "vs    7235\n",
       "ge    7192\n",
       "hn    7119\n",
       "      ... \n",
       "ua    3123\n",
       "vb    2989\n",
       "dj    2893\n",
       "ox    2724\n",
       "el    2221\n",
       "Name: poeng, Length: 676, dtype: int64"
      ]
     },
     "execution_count": 29,
     "metadata": {},
     "output_type": "execute_result"
    }
   ],
   "source": [
    "resultatliste_url = 'https://julekalender-backend.knowit.no/challenges/10/attachments/leker.txt'\n",
    "resultatliste = requests.get(resultatliste_url).text.split('\\n')[:-1]\n",
    "\n",
    "datasett = pd.DataFrame([{'spiller': s, 'øvelse': i, 'pos': j + 1, 'tot_deltagere': 1 + rad.count(',')} for i, rad in enumerate(resultatliste) for j, s in enumerate(rad.split(','))])\n",
    "datasett['poeng'] = datasett['tot_deltagere'] - datasett['pos']\n",
    "datasett.groupby('spiller')['poeng'].sum().sort_values(ascending=False)"
   ]
  },
  {
   "cell_type": "raw",
   "metadata": {},
   "source": [
    "## Luke 11 ##\n",
    "Alvene har ikke hørt om passordprogrammer, så de må bruke passordhint for å huske på passordene sine. De er også litt slappe med sikkerheten, så de har gjemt passordene sine i hintet.\n",
    "\n",
    "Følgende prosedyre bestemmer om et ord kan være et hint for passordet vårt:\n",
    "\n",
    "Vi starter med et mulig hint, for eksempel juletre og legger det på første rad:\n",
    "\n",
    "juletre\n",
    "Deretter gjør vi følgende:\n",
    "\n",
    "Kopier innholdet i siste rad, og fjern den første bokstaven.\n",
    "\n",
    "juletre\n",
    "uletre\n",
    "Dytt så de resterende bokstavene ett hakk oppover i alfabetet (a -> b og z -> a).\n",
    "\n",
    "juletre\n",
    "vmfusf\n",
    "Deretter, legg til alfabetplasseringen fra bokstaven over (a(0) + b(1) = b(1), b(1) + c(2) = d(3)):\n",
    "\n",
    "juletre\n",
    "egqylw  <-- v(21) + j(9) % 26 = e(4); m(12) + u(20) % 26 = g(6); f + l = q...\n",
    "Vi fortsetter med prosedyren over helt til vi er tomme for bokstaver:\n",
    "\n",
    "juletre\n",
    "egqylw\n",
    "lxpki\n",
    "jnat\n",
    "xou\n",
    "mj\n",
    "w\n",
    "Et gyldig hint vil ha passordet i en av kolonnene (ikke nødvendigvis hele kolonnen).\n",
    "\n",
    "Passordet for eksempelet over kunne vært jeljxmw, ugxnoj, lqpau, eykt, tli, rw, e, eller en hvilken som helst substring av disse.\n",
    "\n",
    "Hvilket av disse ordene er et hint for passordet eamqia?"
   ]
  },
  {
   "cell_type": "code",
   "execution_count": 30,
   "metadata": {},
   "outputs": [
    {
     "name": "stdout",
     "output_type": "stream",
     "text": [
      "[('metropolitan', 'tlseamqiay  ')]\n"
     ]
    }
   ],
   "source": [
    "kandidat_hint = requests.get('https://julekalender-backend.knowit.no/challenges/11/attachments/hint.txt').text.split('\\n')[:-1]\n",
    "\n",
    "def get_rader(hint):\n",
    "    shifted = '' if len(hint) <= 1 else ''.join([chr(ord('a') + (ord(o) + ord(w) + 1 - 2*ord('a'))%26) for w, o in zip(hint, hint[1:])])\n",
    "    return [shifted] if len(shifted) <= 1 else [shifted] + get_rader(shifted)\n",
    "\n",
    "def get_kolonner(hint):\n",
    "    rader_padded = [hint] + [x.ljust(len(hint)) for x in get_rader(hint)]\n",
    "    return map(''.join, zip(*rader_padded))\n",
    "\n",
    "print([(kandidat, kolonne) for kandidat in kandidat_hint for kolonne in get_kolonner(kandidat) if 'eamqia' in kolonne])"
   ]
  },
  {
   "cell_type": "raw",
   "metadata": {},
   "source": [
    "## Luke 12 ##\n",
    "Alven Alvor har i det siste blitt ekstra interessert i slektsforsking. Dette kompliserast av at alvar ikkje har heteronormative familiar med ein far og ei mor, men lever i kollektiv der fleire alvar saman dannar foreldregrupper der foreldrerollen delast av alle.\n",
    "\n",
    "Alvor har forsøkt å lagre familietreet sitt som ein tekststreng, men dette formatet blir fort vanskeleg å lese. Treet hans inneheld namn, og i parantesar bak er namna på alvane i foreldregruppa til denne alven, om Alvor har klart å kartlegge desse.\n",
    "\n",
    "Kor mange alvar er det i den største generasjonen som Alvor har klart å kartlegge i treet sitt, som du finn i denne fila?\n",
    "\n",
    "Alvor (Alv Alf Alvaro (Halfrid Halvar Halvard (Alvilde Alva (Alfie Alvor Joralv) Alfonse)) Calvin (Tjalve Alvbert Alvard))\n",
    "\n",
    "Dette treet gir følgande struktur:\n",
    "\n",
    "Slektstre\n",
    "\n",
    "Vi ser her at Alvor har klart å kartlegge 4 generasjonar bakover, og generasjon 2 er den største med 6 alvar. Svaret er derfor 6."
   ]
  },
  {
   "cell_type": "code",
   "execution_count": 33,
   "metadata": {},
   "outputs": [
    {
     "name": "stdout",
     "output_type": "stream",
     "text": [
      "Nivået med flest alver har 5965.\n"
     ]
    }
   ],
   "source": [
    "rådata = np.array(list(requests.get('https://julekalender-backend.knowit.no/challenges/12/attachments/family.txt').text))\n",
    "nivå = np.select([rådata == '(', rådata == ')'], [1, -1], 0).cumsum()\n",
    "navn_pr_nivå_df = pd.DataFrame({'er_navn': np.char.isupper(rådata), 'nivå': nivå}).groupby('nivå')['er_navn'].sum()\n",
    "print(f'Nivået med flest alver har {navn_pr_nivå_df.max()}.')"
   ]
  },
  {
   "cell_type": "raw",
   "metadata": {},
   "source": [
    "## Luke 13 ##\n",
    "På innholdet i denne inputfila skal følgande operasjonar utførast:\n",
    "\n",
    "For alle bokstavar a-z skal alle førekomstar av bokstaven fjernast, med unntak av den n-te, der n er posisjonen til bokstaven i alfabetet. Om det ikkje er n førekomstar av bokstaven fjernast alle. Med andre ord:\n",
    "\n",
    "Alle førekomstar av bokstaven 'a' skal fjernast, med unntak av den første.\n",
    "Alle førekomstar av bokstaven 'b' skal fjernast, med unntak av den andre.\n",
    "Alle førekomstar av bokstaven 'c' skal fjernast, med unntak av den tredje.\n",
    "... og så vidare for resten av alfabetet.\n",
    "Til slutt sit du att med svaret på denne oppgåva."
   ]
  },
  {
   "cell_type": "code",
   "execution_count": 35,
   "metadata": {},
   "outputs": [
    {
     "name": "stdout",
     "output_type": "stream",
     "text": [
      "Svaret er aebdhgcfijmqolpnvutkzsxryw \n",
      "Kjørte på 0.0000000 sekunder.\n"
     ]
    }
   ],
   "source": [
    "strengen = requests.get('https://julekalender-backend.knowit.no/challenges/13/attachments/text.txt').text\n",
    "\n",
    "start_time = time.time()\n",
    "for i, a in enumerate('abcdefghijklmnopqrstuvwxyz'):\n",
    "    if strengen.count(a) >= i+1:\n",
    "        strengen = ''.join(strengen.split(a)[:i+1] + [a] + strengen.split(a)[i+1:])\n",
    "    else:\n",
    "        strengen = strengen.replace(a, '')\n",
    "print(f'Svaret er {strengen}')\n",
    "print(f'Kjørte på {time.time() - start_time:.7f} sekunder.')"
   ]
  },
  {
   "cell_type": "raw",
   "metadata": {},
   "source": [
    "## Luke 14 ##\n",
    "Vi definerer en minus-pluss-sekvens som en sekvens der første element er 0 og andre element er 1. Resten av sekvensen blir generert på følgende vis:\n",
    "\n",
    "Først prøver man å substrahere n fra det (n-2)'te elementet. Dersom resultatet her er positivt og ikke finnes i sekvensen fra før av legges det til i sekvensen.\n",
    "Dersom resultatet er negativt eller i sekvensen fra før av adderer man n til det (n-2)'te elementet, og legger det til i sekvensen uansett om det finnes fra før av eller ikke.\n",
    "Eksempel:\n",
    "\n",
    "a(0) = 0\n",
    "a(1) = 1\n",
    "a(2) = 0 - 2 = -2. Det fungerer ikke fordi tallet er negativt.\n",
    "a(2) = 0 + 2 = 2. Det fungerer med pluss.\n",
    "a(3) = 1 - 3 = -2. Det fungerer ikke fordi tallet er negativt.\n",
    "a(3) = 1 + 3 = 4. Det fungerer med pluss.\n",
    "a(4) = 2 - 4 = -1. Det fungerer ikke fordi tallet er negativt.\n",
    "a(4) = 2 + 4 = 6. Det fungerer med pluss.\n",
    "a(5) = 4 - 5 = -1. Det fungerer ikke fordi tallet er negativt.\n",
    "a(5) = 4 + 5 = 9. Det fungerer med pluss.\n",
    "a(6) = 6 - 6 = 0. Det fungerer ikke fordi tallet allerede eksisterer i sekvensen.\n",
    "a(6) = 6 + 6 = 12. Det fungerer med pluss.\n",
    "a(7) = 9 - 7 = 2. Det fungerer ikke fordi tallet allerede eksisterer i sekvensen.\n",
    "a(7) = 9 + 7 = 16. Det fungerer med pluss.\n",
    "a(8) = 12 - 8 = 4. Det fungerer ikke fordi tallet allerede eksisterer i sekvensen.\n",
    "a(8) = 12 + 8 = 20. Det fungerer med pluss.\n",
    "\n",
    "...\n",
    "\n",
    "a(13) = 18 - 13 = 5. Det fungerer med minus.\n",
    "\n",
    "...\n",
    "\n",
    "a(15) = 5 - 15 = -10. Det fungerer ikke fordi tallet er negativt.\n",
    "a(15) = 5 + 15 = 20. Her blir tallet lagt til i sekvensen, selv om det allerede eksisterer.\n",
    "Som gir en sekvens på 0, 1, 2, 4, 6, 9, 12, 16, 20, ..., 5, ..., 20\n",
    "\n",
    "Hvor mange primtall finnes i en minus-pluss-sekvens med lengde 1800813?"
   ]
  },
  {
   "cell_type": "code",
   "execution_count": 37,
   "metadata": {},
   "outputs": [
    {
     "name": "stdout",
     "output_type": "stream",
     "text": [
      "Tid før primtallsberegning: 1.032\n",
      "Antall primtall er 67321\n",
      "Total tid 1.359\n"
     ]
    }
   ],
   "source": [
    "from sympy import sieve\n",
    "start_time = time.time()\n",
    "\n",
    "LST_LEN = 1800813\n",
    "li = [0, 1]\n",
    "li_set = set(li)\n",
    "for n in range(2, LST_LEN):\n",
    "    if li[-2] - n >= 0 and li[-2] - n not in li_set:\n",
    "        li.append(li[-2] - n)\n",
    "    else:\n",
    "        li.append(li[-2] + n)\n",
    "    li_set.add(li[-1])\n",
    "\n",
    "print(f'Tid før primtallsberegning: {time.time() - start_time:.3f}')\n",
    "    \n",
    "primes = set(sieve.primerange(0, max(li_set)))\n",
    "\n",
    "print(f'Antall primtall er {len([x for x in li if x in primes])}')\n",
    "print(f'Total tid {time.time() - start_time:.3f}')"
   ]
  },
  {
   "cell_type": "raw",
   "metadata": {},
   "source": [
    "## Luke 15 ##\n",
    "\n",
    "Limord er ord som i seg sjølv er gyldige ord, men som også kan vere \"limet\" mellom to andre ord.\n",
    "\n",
    "For orda regn og smitte er dråpe eit gyldig limord. Det gir regndråpe og dråpesmitte.\n",
    "\n",
    "For orda øye og kart kan både orda eple og farge vere limord. Dei gir øyeeple, eplekart og øyefarge, fargekart.\n",
    "\n",
    "Gitt denne ordboka og denne lista med ordpar vi skal finne limord for, kva er summen av antallet bokstavar i alle limord? Limord som dukkar opp fleire gangar skal kun tellast ein gang, og må sjølv stå i ordboka.\n",
    "\n",
    "Døme\n",
    "For desse ordpara finn vi [limord]:\n",
    "\n",
    "innovasjons, løsheta    [takt, verdi]\n",
    "spektral, sikringens    [verdi]\n",
    "verdens, spillet        [tenor]\n",
    "Det er totalt 14 bokstavar i limord, då verdi kun tellast ein gong"
   ]
  },
  {
   "cell_type": "code",
   "execution_count": 38,
   "metadata": {},
   "outputs": [
    {
     "name": "stdout",
     "output_type": "stream",
     "text": [
      "Totalt antall bokstaver: 278\n"
     ]
    }
   ],
   "source": [
    "ordbok = set(requests.get('https://julekalender-backend.knowit.no/challenges/15/attachments/wordlist.txt').text.split('\\n'))\n",
    "ordparliste = [tuple(ordpar.split(', ')) for ordpar in requests.get('https://julekalender-backend.knowit.no/challenges/15/attachments/riddles.txt').text.split('\\n')[:-1]]\n",
    "alle_limord = set()\n",
    "for ord_1, ord_2 in ordparliste:\n",
    "    starter_med_ord_1 = set([ordbokord.replace(ord_1, '') for ordbokord in ordbok if ordbokord.startswith(ord_1)])\n",
    "    slutter_med_ord_2 = set([ordbokord.replace(ord_2, '') for ordbokord in ordbok if ordbokord.endswith(ord_2)])\n",
    "    alle_limord.update(starter_med_ord_1.intersection(slutter_med_ord_2).intersection(ordbok))\n",
    "print(f'Totalt antall bokstaver: {sum([len(limord) for limord in alle_limord])}')"
   ]
  },
  {
   "cell_type": "raw",
   "metadata": {},
   "source": [
    "## Luke 16 ##\n",
    "Rikelige tall er tall n, der summen av alle divisorer til n er større enn 2n.\n",
    "\n",
    "Eksempel:\n",
    "\n",
    "12 sine divisorer er 1, 2, 3, 4, 6 og 12, og 1+2+3+4+6+12 = 28, og 28 > (2*12 = 24)\n",
    "Hvor mange rikelige tall under 1.000.000 har en differanse mellom summen av divisorer og 2n som er kvadratisk?"
   ]
  },
  {
   "cell_type": "code",
   "execution_count": 3,
   "metadata": {},
   "outputs": [
    {
     "name": "stdout",
     "output_type": "stream",
     "text": [
      "Løsning = 705\n"
     ]
    }
   ],
   "source": [
    "# sympy versjon\n",
    "import numpy as np\n",
    "from sympy import divisors\n",
    "\n",
    "x = np.arange(1000000) + 1\n",
    "d_sums = np.array([sum(divisors(i)) for i in x])\n",
    "diff = np.clip(d_sums - 2 * x, 0, None)\n",
    "print(f'Løsning = {np.isin(np.sqrt(diff), x).sum()}')"
   ]
  },
  {
   "cell_type": "code",
   "execution_count": 4,
   "metadata": {},
   "outputs": [
    {
     "name": "stdout",
     "output_type": "stream",
     "text": [
      "Svar: 705\n",
      "21.194302320480347\n"
     ]
    }
   ],
   "source": [
    "# numpy versjon\n",
    "import time\n",
    "import numpy as np\n",
    "start_time = time.time()\n",
    "n = 1000000\n",
    "x = np.arange(1, n + 1).astype(np.uint32)\n",
    "pot_divs = np.arange(1, int(np.sqrt(n) + 1)).astype(np.uint32)\n",
    "x_flip = x[:, None]\n",
    "is_divisor = (x_flip % pot_divs == 0) & (pot_divs <= np.sqrt(x_flip))\n",
    "is_sqrt = x_flip == pot_divs ** 2\n",
    "div_sums = np.sum(np.where(is_divisor, pot_divs, 0) + np.where((is_divisor) & (~is_sqrt), x_flip // pot_divs, 0), axis=1)\n",
    "d = np.clip(div_sums - 2 * x, 0, None)\n",
    "print(f'Svar: {np.isin(np.sqrt(d), x).sum()}')\n",
    "print(f'{time.time() - start_time}')"
   ]
  },
  {
   "cell_type": "raw",
   "metadata": {},
   "source": [
    "## Luke 17 ##\n",
    "Alvene har kjøpt Julenissen og Julenissemor en robotstøvsuger i presang, slik at de kan bruke litt mindre tid på å holde reint hjemme og litt mer tid på å opprettholde det endeløse blodtørstige slaveriet som er kapitalismen uutømmelige sult for julegaver.\n",
    "\n",
    "Støvsugeren har følgende form:\n",
    "\n",
    "  sss  \n",
    " sssss \n",
    "sssssss\n",
    "sssXsss\n",
    "sssssss\n",
    " sssss \n",
    "  sss  \n",
    "Videre har støvsugeren koster som gjør at den kan rengjøre følgende areal under seg:\n",
    "\n",
    "kkk   kkk\n",
    "kkkkkkkkk\n",
    "kkkkkkkkk\n",
    " kkkkkkk \n",
    " kkkXkkk \n",
    " kkkkkkk \n",
    "kkkkkkkkk\n",
    "kkkkkkkkk\n",
    "kkk   kkk\n",
    "X i begge diagrammene er midten av støvsugeren og er dekket av både støvsuger og koster. Kostearealet dekker et større området enn plassen selve roboten tar opp.\n",
    "\n",
    "Vi lurer på: Gitt følgende kart -- hvor x markerer områder roboten ikke kan kjøre gjennom og  (mellomrom) er skittent gulvareal -- Hvor mange ruter av gulvet forblir skitne etter roboten har kjørt (og... teleportert?) overalt hvor den kan?\n",
    "\n",
    "Du kan anta at roboten klarer å navigere på magisk vis til alle områder i kartet hvor den får fysisk plass. Kostene er immaterielle og blir ikke påvirket av vegger, de kan altså sveipe gulvet på andre siden av en vegg (ikke spør hvordan)."
   ]
  },
  {
   "cell_type": "code",
   "execution_count": 1,
   "metadata": {},
   "outputs": [
    {
     "name": "stdout",
     "output_type": "stream",
     "text": [
      "Skitne overflater: 288903\n"
     ]
    }
   ],
   "source": [
    "import requests\n",
    "from scipy.signal import convolve\n",
    "import numpy as np\n",
    "\n",
    "rådata = requests.get('https://julekalender-backend.knowit.no/challenges/17/attachments/kart.txt').text.split('\\n')[:-1]\n",
    "\n",
    "støvsuger = np.array([[0, 0, 1, 1, 1, 0, 0],\n",
    "                     [0, 1, 1, 1, 1, 1, 0],\n",
    "                     [1, 1, 1, 1, 1, 1, 1],\n",
    "                     [1, 1, 1, 1, 1, 1, 1],\n",
    "                     [1, 1, 1, 1, 1, 1, 1],\n",
    "                     [0, 1, 1, 1, 1, 1, 0],\n",
    "                     [0, 0, 1, 1, 1, 0, 0]])\n",
    "\n",
    "børster = np.array([[1, 1, 1, 0, 0, 0, 1, 1, 1],\n",
    "                    [1, 1, 1, 1, 1, 1, 1, 1, 1],\n",
    "                    [1, 1, 1, 1, 1, 1, 1, 1, 1],\n",
    "                    [0, 1, 1, 1, 1, 1, 1, 1, 0],\n",
    "                    [0, 1, 1, 1, 1, 1, 1, 1, 0],\n",
    "                    [0, 1, 1, 1, 1, 1, 1, 1, 0],\n",
    "                    [1, 1, 1, 1, 1, 1, 1, 1, 1],\n",
    "                    [1, 1, 1, 1, 1, 1, 1, 1, 1],\n",
    "                    [1, 1, 1, 0, 0, 0, 1, 1, 1]])\n",
    "\n",
    "gulv = np.pad(np.array(np.array(list([*s] for s in rådata)) != 'x'), 5)\n",
    "støv_pos = convolve(gulv, støvsuger, mode='same') == støvsuger.sum()\n",
    "bs = np.array([np.roll(np.roll(støv_pos, ix[0] - 4, axis=1), ix[1] - 4, axis=0) for ix, b in np.ndenumerate(børster) if b == 1])\n",
    "print(f'Skitne overflater: {gulv.sum() - np.array(np.any(bs, axis=0) & gulv).sum()}')"
   ]
  },
  {
   "cell_type": "raw",
   "metadata": {},
   "source": [
    "## Luke 18 ##\n",
    "Nokon ord er palindrom, dei er like om vi les dei framlengs eller baklengs. Til dømes regninger og ergre. Nokon ord er nesten palindrom, men ikkje heilt. Vi kallar desse orda palinestendrom. Dømer på slike er gnisning, baluba og kauka . Om vi \"limer\" saman eit eller fleire par av tilstøtande bokstavar blir orda palindromiske. Den inbyrdes rekkefølga i dei samanlimte bokstavane endrar seg ikkje når ein snur ordet baklengs.\n",
    "\n",
    "Dømer\n",
    "gnisning - Om vi limer saman s og n, blir gnisning palindromisk: gni(sn)ing\n",
    "\n",
    "kauka - Om vi limer saman k og a i begge endar av ordet blir ordet palindromisk: (ka)u(ka)\n",
    "\n",
    "baluba - Om vi limer saman alle bokstavane parvis får vi eit palindrom: (ba)(lu)(ba)\n",
    "\n",
    "tarotkorta - Om vi limer saman \"ta\" i endane, og \"tk\" i midten: (ta)ro(tk)or(ta)\n",
    "\n",
    "Til info\n",
    "Ord på to bokstavar reknast ikkje som palinestendrom. (For då kunne alle tobokstavsord blitt palindrom).\n",
    "Ordlista inneheld bokstavar som æøå og nokon bokstavar med aksenter.\n",
    "Ordlista har utelukkande små bokstavar.\n",
    "Kor mange av orda i ordlista er ikkje palindrom, men er palinestendrom?"
   ]
  },
  {
   "cell_type": "code",
   "execution_count": null,
   "metadata": {},
   "outputs": [],
   "source": [
    "ordliste = set(requests.get('https://julekalender-backend.knowit.no/challenges/18/attachments/wordlist.txt').text.split('\\n'))\n",
    "\n",
    "def er_palindrom(s):\n",
    "    return s == s[::-1]\n",
    "\n",
    "def er_palinestendrom(s):\n",
    "    \n",
    "    def rekursiv_del(s):\n",
    "        if len(s) <= 2 or er_palindrom(s):\n",
    "            return True\n",
    "        elif sorted(s[0:2]) == sorted(s[-2:]):\n",
    "            return rekursiv_del(s[2:-2])\n",
    "        elif s[0] == s[-1]:\n",
    "            return rekursiv_del(s[1:-1])\n",
    "        else:\n",
    "            return False\n",
    "    \n",
    "    if len(s) <= 3 or er_palindrom(s):\n",
    "        return False\n",
    "    else:\n",
    "        return rekursiv_del(s)\n",
    "    \n",
    "palinestendrom = [np for np in ordliste if er_palinestendrom(np)]\n",
    "\n",
    "print(f'Vi har {len(palinestendrom)} palinestendrom.')"
   ]
  },
  {
   "cell_type": "raw",
   "metadata": {},
   "source": [
    "## Luke 19 ##\n",
    "Frem til desember er det veldig lite for nissens alver å gjøre. For å få tiden til å gå pleier de derfor å leke forskjellige leker. I 2020 har favoritten vært stolleken. I denne filen har de notert seg startposisjonene til alle alvene, antall steg hver alv tar til høyre hver runde og hvilken regel som bestemmer hvordan stoler fjernes.\n",
    "\n",
    "Første tallet angir altså hvilken regel som brukes for å eliminere stoler. Tallet etter angir hvor mange steg alvene beveger seg mot høyre før neste stol blir tatt vekk. Deretter en liste med alver i den rekkefølgen de står. De står i sirkel, så første alven står til høyre for den siste alven. En linje kan se slik ut:\n",
    "\n",
    " 1 3 [Jenny, Alvin, Greger, Petra, Olaug, Olaf] \n",
    "Reglene som det første tallet viser til kan være fra fra og med 1 til og med 4, og reglene er som følger:\n",
    "\n",
    "Alltid fjern den første stolen i listen.\n",
    "Begynn med å fjerne stolen på plass 0, deretter på plass 1, og oppover, frem til man når antall stoler (som fortsatt er i spill), deretter begynner man på første stol igjen.\n",
    "Fjern den midterste stolen. Dersom antall stoler er partall, fjernes de to stolene som er i midten, frem til det er 2 stoler igjen, da fjernes den første stolen.\n",
    "Alltid fjern den siste stolen i listen\n",
    "Hver alv korresponderer til en stol, og etter at alvene har tatt de angitte stegene mot høyre fjernes alvene som står på plasser der stoler ble fjernet.\n",
    "\n",
    "Vinneren er den som står igjen når alle bortsett fra en alv har røket ut.\n",
    "Hva er navnet på alven som har vunnet stolleken flest ganger i 2020?"
   ]
  },
  {
   "cell_type": "code",
   "execution_count": 5,
   "metadata": {},
   "outputs": [
    {
     "name": "stdout",
     "output_type": "stream",
     "text": [
      "Vinneren er Spencer, med 10 seiere\n"
     ]
    }
   ],
   "source": [
    "import requests\n",
    "from collections import Counter\n",
    "\n",
    "def stollek(regel, pos, deltagere):\n",
    "    i = 0\n",
    "    while len(deltagere) > 1:\n",
    "        deltagere = [deltagere[(i - pos) % len(deltagere)] for i, x in enumerate(deltagere)]\n",
    "        if regel == 1:\n",
    "            deltagere.pop(0)\n",
    "        if regel == 2:\n",
    "            if i >= len(deltagere):\n",
    "                i = 0\n",
    "            deltagere.pop(i)\n",
    "            i += 1\n",
    "        if regel == 3:\n",
    "            if len(deltagere) == 2:\n",
    "                deltagere.pop(0)\n",
    "            elif len(deltagere) % 2 == 0:\n",
    "                deltagere = deltagere[:len(deltagere)//2 - 1] + deltagere[len(deltagere)//2 + 1:]\n",
    "            else:\n",
    "                deltagere.pop(len(deltagere)//2)\n",
    "        elif regel == 4:\n",
    "            deltagere.pop(-1)\n",
    "    return deltagere[0]\n",
    "\n",
    "rådata = [s.strip('[], ') for s in requests.get('https://julekalender-backend.knowit.no/challenges/19/attachments/input.txt').text.split('\\n')]\n",
    "\n",
    "stolleker = []\n",
    "for linje in rådata:\n",
    "    linje_deler = linje.split(' ')\n",
    "    stolleker.append({'regel': int(linje_deler.pop(0)), 'rotasjon': int(linje_deler.pop(0)), 'deltagere': linje_deler})\n",
    "\n",
    "vinnere = Counter([stollek(lek['regel'], lek['rotasjon'], lek['deltagere']) for lek in stolleker])\n",
    "print(f'Vinneren er {vinnere.most_common(1)[0][0]} med {vinnere.most_common(1)[0][1]} seiere')"
   ]
  },
  {
   "cell_type": "raw",
   "metadata": {},
   "source": [
    "## Luke 23\n",
    "I julenissens fabrikk på Nordpolen jobber det uante mengder alver gjennom hele året for å rekke å produsere nok gaver til hele verdens befolkning til jul. Midt oppi alt dette arbeidspresset trenger alvene en måte å koble av når de går av vakt. En favorittaktivitet etter jobb er rap-battle blant alvene.\n",
    "\n",
    "Alvenes rap-battle følger litt andre (og mer rigide) regler enn hos mennesker. Det er alltid to alver som battler hverandre. Formålet er å sanke poeng fra publikum. Den som får flest poeng har vunnet battlen.\n",
    "\n",
    "De to rapperne rapper linjene sine annenhver. Hver raplinje får en poengsum fra publikum, og rapperens totale poengsum er summen av poengene fra alle rapperens individuelle raplinjer.\n",
    "\n",
    "En raplinje består av et sett med ord, der hvert ord sanker en deterministisk mengde poeng fra publikum, etter følgende regler:\n",
    "\n",
    "et ord består av et grunnord, som potensielt kan være prefikset med \"jule\".\n",
    "hvert ord medfører en poengsum som er regnes ut basert på tre verdier: én kontekstløs og to kontekstavhengige.\n",
    "grunnverdien: den kontekstløse verdien, en konstant poengsum per grunnord.\n",
    "vokalbonus: den første kontekstavhengige verdien, lik differansen mellom antall vokaler (aeiouyæøå) i dette ordet og foregående ord, dersom dette ordet har flere vokaler enn foregående ord. Det er vokalene for hele ordet som gjelder, ikke bare grunnordet. Dersom dette ordet har \"jule\"-prefikset, så dobles denne verdien. Dersom foregående ord har like mange vokaler eller flere, eller dersom inneværende ord er første ord i raplinja, så er denne verdien 0.\n",
    "repetisjonsdivisor: den andre kontekstavhengige verdien, lik antall ganger dette grunnordet har blitt brukt på rad i denne raplinjen. Man vurderer kun ordene til og med det inneværende ordet, ikke de kommende ordene.\n",
    "utregningen som gir ordets poengsum er (grunnverdi + vokalbonus)/repetisjonsdivisor, rundet ned.\n",
    "Denne gangen står kampen mellom to av alvenes rap battle storfavoritter: Nizzy G, og Lil Niz X.\n",
    "\n",
    "Baseordene og deres grunnverdier finner du her, og selve rap battlen finner du her.\n",
    "\n",
    "Hvem av de to alvene stikker av med seieren, og hvor mange poeng har vinneren? Angi svaret som navn på vinneralven, etterfulgt av komma, etterfulgt av antall poeng vinneren fikk."
   ]
  },
  {
   "cell_type": "code",
   "execution_count": 3,
   "metadata": {},
   "outputs": [
    {
     "name": "stdout",
     "output_type": "stream",
     "text": [
      "Nizzy G får 3316 poeng, Lil Niz X får 2919\n"
     ]
    }
   ],
   "source": [
    "import requests\n",
    "\n",
    "battle = [t.split(': ') for t in requests.get('https://julekalender-backend.knowit.no/challenges/23/attachments/rap_battle.txt').text.split('\\n')[:-1]]\n",
    "base_ord = dict(t.split(' ') for t in requests.get('https://julekalender-backend.knowit.no/challenges/23/attachments/basewords.txt').text.split('\\n')[:-1])\n",
    "\n",
    "def vokaler(ordz):\n",
    "    return sum(1 for t in ordz if t in 'aeiouyæøå')\n",
    "\n",
    "def rep_div(ordzliste):\n",
    "    i = 1\n",
    "    grunnord = ordzliste.pop().replace('jule', '')\n",
    "    while ordzliste and ordzliste.pop().replace('jule', '') == grunnord:\n",
    "        i += 1\n",
    "    return i\n",
    "\n",
    "def score(rap_linje):\n",
    "    poeng = 0\n",
    "    rappe_ordz = rap_linje.split(' ')\n",
    "    for i, ordz in enumerate(rappe_ordz):\n",
    "        grunnverdi = int(base_ord.get(ordz.replace('jule', ''), 0))\n",
    "        vokalbonus = (int(ordz.startswith('jule')) + 1) * max((vokaler(ordz) - vokaler(rappe_ordz[max(i-1, 0)])), 0)\n",
    "        poeng += (grunnverdi + vokalbonus) // rep_div(rappe_ordz[:i + 1])\n",
    "    return poeng\n",
    "\n",
    "nizzy_g = sum(score(b[1]) for b in battle if b[0] == 'Nizzy G')\n",
    "lil_niz_x = sum(score(b[1]) for b in battle if b[0] == 'Lil Niz X')\n",
    "\n",
    "print(f'Nizzy G får {nizzy_g} poeng, Lil Niz X får {lil_niz_x}')"
   ]
  },
  {
   "cell_type": "raw",
   "metadata": {},
   "source": [
    "## Luke 24\n",
    "Selv Julenissen trenger mat, også på Julaften. Men i år har han forsovet seg, slik at han ikke får tid til å spise julemiddagen før han må dra av sted for å levere pakker. Når han setter avgårde orker han derfor bare å besøke 10 hus!\n",
    "\n",
    "Heldigvis er det mange snille folk som setter ut julekaker eller grøt til nissefar. Hver gang han får seg en matbit kan han besøke 2 flere hus enn tidligere. Av erfaring vet han at det er de snilleste barna han oftest får dette av, derfor har alvene laget en rute som baserer seg på å besøke de aller snilleste først.\n",
    "\n",
    "Oppgave\n",
    "Ruten alvene har satt opp finnes i fila rute.txt. Denne inneholder verdier som indikerer om nissefar kunne fått seg en matbit når han besøkte disse, 1 betyr ja og 0 betyr nei. Hvor mange hus besøker nissen før han ikke orker mer?"
   ]
  },
  {
   "cell_type": "code",
   "execution_count": 2,
   "metadata": {},
   "outputs": [
    {
     "name": "stdout",
     "output_type": "stream",
     "text": [
      "Nissen orker å besøke 3333490 hus. God jul🎄\n"
     ]
    }
   ],
   "source": [
    "import requests, numpy as np\n",
    "fuel = np.array(list(requests.get('https://julekalender-backend.knowit.no/challenges/24/attachments/rute.txt').text), dtype=np.int).cumsum() * 2 + 10\n",
    "print(f'Nissen orker å besøke {np.argmax(fuel < np.arange(1, len(fuel) + 1))} hus. God jul🎄')"
   ]
  },
  {
   "cell_type": "code",
   "execution_count": 5,
   "metadata": {},
   "outputs": [
    {
     "data": {
      "text/plain": [
       "<method-wrapper '__ne__' of str object at 0x000002BDF15E2EF0>"
      ]
     },
     "execution_count": 5,
     "metadata": {},
     "output_type": "execute_result"
    }
   ],
   "source": [
    "' '.__ne__"
   ]
  },
  {
   "cell_type": "code",
   "execution_count": null,
   "metadata": {},
   "outputs": [],
   "source": []
  }
 ],
 "metadata": {
  "kernelspec": {
   "display_name": "Python 3",
   "language": "python",
   "name": "python3"
  },
  "language_info": {
   "codemirror_mode": {
    "name": "ipython",
    "version": 3
   },
   "file_extension": ".py",
   "mimetype": "text/x-python",
   "name": "python",
   "nbconvert_exporter": "python",
   "pygments_lexer": "ipython3",
   "version": "3.7.9"
  }
 },
 "nbformat": 4,
 "nbformat_minor": 4
}
