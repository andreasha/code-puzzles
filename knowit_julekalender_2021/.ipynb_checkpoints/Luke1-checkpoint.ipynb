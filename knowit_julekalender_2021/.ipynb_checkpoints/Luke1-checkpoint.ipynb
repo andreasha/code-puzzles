{
 "cells": [
  {
   "cell_type": "code",
   "execution_count": null,
   "id": "6575165c-b2b6-449b-9b0c-de1743c31fbb",
   "metadata": {},
   "outputs": [],
   "source": []
  }
 ],
 "metadata": {
  "kernelspec": {
   "display_name": "Python 3 (ipykernel)",
   "language": "python",
   "name": "python3"
  },
  "language_info": {
   "codemirror_mode": {
    "name": "ipython",
    "version": 3
   },
   "file_extension": ".py",
   "mimetype": "text/x-python",
   "name": "python",
   "nbconvert_exporter": "python",
   "pygments_lexer": "ipython3",
   "version": "3.9.7"
  }
 },
 "nbformat": 4,
 "nbformat_minor": 5
}
