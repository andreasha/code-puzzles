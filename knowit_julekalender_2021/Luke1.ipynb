{
 "cells": [
  {
   "cell_type": "markdown",
   "id": "6bee755d-6075-46ca-8c3e-2e7760920ebf",
   "metadata": {},
   "source": [
    "# Luke 1 \n",
    "...oppgavetekst"
   ]
  },
  {
   "cell_type": "code",
   "execution_count": 1,
   "id": "e98d01c7-4885-407e-a30d-9de9b6ff51f8",
   "metadata": {},
   "outputs": [],
   "source": [
    "import requests\n",
    "import time"
   ]
  },
  {
   "cell_type": "code",
   "execution_count": null,
   "id": "66bbb550-c2ba-4504-8483-1aaa079d4e66",
   "metadata": {},
   "outputs": [],
   "source": []
  }
 ],
 "metadata": {
  "kernelspec": {
   "display_name": "Python 3 (ipykernel)",
   "language": "python",
   "name": "python3"
  },
  "language_info": {
   "codemirror_mode": {
    "name": "ipython",
    "version": 3
   },
   "file_extension": ".py",
   "mimetype": "text/x-python",
   "name": "python",
   "nbconvert_exporter": "python",
   "pygments_lexer": "ipython3",
   "version": "3.9.7"
  }
 },
 "nbformat": 4,
 "nbformat_minor": 5
}
