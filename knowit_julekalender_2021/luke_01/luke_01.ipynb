{
 "cells": [
  {
   "cell_type": "markdown",
   "id": "9f409cd2-8fe5-4417-89be-d9df1924cac1",
   "metadata": {},
   "source": [
    "# Luke 01\n",
    "\n",
    "    Tall er helt klart enklest å håndtere når de er nettopp tall.\n",
    "    Men som vi kodere vet hender det at en må forholde seg til tall som har blitt strenger.\n",
    "    Det er jo irriterende nok, men verre blir det når tallene er gjort om til ord! I strengen \"entotrefirefem\" har noen gjort om 1, 2, 3, 4, 5 til ord.\n",
    "    I denne filen har vi gjort om en liste av tall til en lang streng. Hva er summen av denne listen med tall?\n",
    "\n",
    "### Opplysninger  \n",
    "\n",
    "    Ingen av tallene er større enn 50\n",
    "    Svar med tall, ikke med ord.\n",
    "    Høyeste tall blir valgt hvis man kan velge mellom to.\n",
    "    For eksempel: \"femti\" -> 50, altså IKKE 5 og 10\n",
    "\n",
    "### Eksempel\n",
    "\n",
    "    \"entotrefirefem\" -> [1, 2, 3, 4, 5] -> 15\n",
    "    \"sjufirenitrettentrettitretrettitre\" -> [7, 4, 9, 13, 33, 30, 3] -> 99"
   ]
  },
  {
   "cell_type": "code",
   "execution_count": 1,
   "id": "e5009604-33bb-4160-827d-bf6a8cec7835",
   "metadata": {},
   "outputs": [],
   "source": [
    "import pandas as pd\n",
    "import re\n",
    "import requests\n",
    "import time"
   ]
  },
  {
   "cell_type": "code",
   "execution_count": 2,
   "id": "93bd9519-0ac2-44e2-8064-3d60b753b1df",
   "metadata": {},
   "outputs": [],
   "source": [
    "# Lese data\n",
    "r = requests.get('https://julekalender-backend.knowit.no/rails/active_storage/blobs/redirect/eyJfcmFpbHMiOnsibWVzc2FnZSI6IkJBaHBNdz09IiwiZXhwIjpudWxsLCJwdXIiOiJibG9iX2lkIn19--0af4f790dec929a13e3615fdac11667323ea1597/tall.txt')\n",
    "r.encoding = r.apparent_encoding # Filen var ISO-8859-1. Trenger UTF-8\n",
    "luke01_data_raw = r.text[:-1]\n",
    "if luke01_data_raw:\n",
    "    with open('luke01_data_raw', 'w') as file:\n",
    "        file.write(luke01_data_raw)"
   ]
  },
  {
   "cell_type": "code",
   "execution_count": 3,
   "id": "0b813d47-cf5f-40b8-a198-63aa92faf4ac",
   "metadata": {},
   "outputs": [],
   "source": [
    "# Lage df med tekst/tall-mapping\n",
    "tekst_til_tall = {tall: tekst for tall, tekst in enumerate(['', 'en', 'to', 'tre', 'fire', 'fem', 'seks', 'sju', 'åtte', 'ni', 'ti', 'elleve', 'tolv', 'tretten', 'fjorten', 'femten', 'seksten', 'sytten', 'atten', 'nitten'])}\n",
    "tekst_til_tall.update({i * 10 + tall: t + tekst for i, t in enumerate(['tjue', 'tretti', 'førti', 'femti'], 2) for tall, tekst in tekst_til_tall.items() if tall < 10})\n",
    "df = pd.DataFrame({'tekst': tekst_til_tall})[1:51]"
   ]
  },
  {
   "cell_type": "code",
   "execution_count": 6,
   "id": "cf2d2290-cb51-4b4f-9293-8f188b9e8e33",
   "metadata": {},
   "outputs": [
    {
     "name": "stdout",
     "output_type": "stream",
     "text": [
      "Kjøretid = 0.05s\n",
      "Løsning = 142609\n"
     ]
    }
   ],
   "source": [
    "# Algoritmedel med timer\n",
    "luke01_data = luke01_data_raw\n",
    "regex_suffix = \"(?=\" + \"|\".join(df['tekst']) + \"|$)\" # en match må etterfølges av et annet tall eller \"end of string\"\n",
    "df['antall'] = 0\n",
    "\n",
    "start_time = time.time()\n",
    "for tall in df.index.sort_values(ascending=False):\n",
    "    pattern = '(' + df.loc[tall, 'tekst'] + ')' + regex_suffix\n",
    "    df.loc[tall, 'antall'] = len(re.findall(pattern, luke01_data))\n",
    "    luke01_data = re.sub(pattern, '', luke01_data)\n",
    "assert len(luke01_data) == 0\n",
    "print(f'Kjøretid = {time.time() - start_time:.2f}s')\n",
    "print(f'Løsning = {(df.index * df[\"antall\"]).sum()}')"
   ]
  },
  {
   "cell_type": "code",
   "execution_count": null,
   "id": "0df93ceb-cfb9-4304-9e13-9369086dd6a7",
   "metadata": {},
   "outputs": [],
   "source": []
  }
 ],
 "metadata": {
  "kernelspec": {
   "display_name": "Python 3 (ipykernel)",
   "language": "python",
   "name": "python3"
  },
  "language_info": {
   "codemirror_mode": {
    "name": "ipython",
    "version": 3
   },
   "file_extension": ".py",
   "mimetype": "text/x-python",
   "name": "python",
   "nbconvert_exporter": "python",
   "pygments_lexer": "ipython3",
   "version": "3.9.7"
  }
 },
 "nbformat": 4,
 "nbformat_minor": 5
}
